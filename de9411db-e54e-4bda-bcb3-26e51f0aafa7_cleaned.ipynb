{
 "cells": [
  {
   "cell_type": "code",
   "execution_count": null,
   "metadata": {
    "colab": {
     "base_uri": "https://localhost:8080/"
    },
    "id": "eX5Zrk8lGvDa",
    "outputId": "8804cda8-f928-49d8-a8c2-05953a98dd7d"
   },
   "outputs": [
    {
     "ename": "",
     "evalue": "",
     "output_type": "error",
     "traceback": [
      "\u001b[1;31mRunning cells with 'Python 3.13.1' requires the ipykernel package.\n",
      "\u001b[1;31m<a href='command:jupyter.createPythonEnvAndSelectController'>Create a Python Environment</a> with the required packages.\n",
      "\u001b[1;31mOr install 'ipykernel' using the command: 'c:/Users/Shan/AppData/Local/Programs/Python/Python313/python.exe -m pip install ipykernel -U --user --force-reinstall'"
     ]
    }
   ],
   "source": [
    "!pip install transformers datasets\n"
   ]
  },
  {
   "cell_type": "code",
   "execution_count": null,
   "metadata": {
    "id": "_hv4PCATH7BA"
   },
   "outputs": [],
   "source": [
    "!rm -r ~/.cache/huggingface/datasets\n"
   ]
  },
  {
   "cell_type": "code",
   "execution_count": null,
   "metadata": {
    "colab": {
     "base_uri": "https://localhost:8080/",
     "height": 530,
     "referenced_widgets": [
      "5d21fc61039f4185b27ee3f82bcfc2ad",
      "cb1ebfa85bb548e0873b35a7f847e42e",
      "acfcf8e4ef614adfbaaae192da8dedcd",
      "451196f1389d4336bef1f6f4778ea48f",
      "2044462ce13140308e5aff818ce6b917",
      "60399daaf5ab493f8726aac48da096f9",
      "98b8f7bf244a446d82467833e9c8f93c",
      "ec7dd64b164c47b1a694798d544bb19f",
      "78ab130c5ed244249dc4d6eec0e2470f",
      "e1c5c0f787e54f6db5f0552551c86e45",
      "dc6a1585fa1c42cabc294fed58552ac5",
      "9b3263b544fb469384a24c31a1a5fdfe",
      "bd6f7e557eff4692908eb9c83e461f65",
      "a89cbebeec484048bfa048644253bafd",
      "5d3eea49a26d4e7c98c3695a6f3901a3",
      "8fe4cbd7277d4602af1c575811243285",
      "12fb6d6ead3241dda6ba030e578d24e5",
      "841698686c5248c4817422a8c9f60f05",
      "1e6f863f42274530a6fac51de307560f",
      "0eb584ecad1541f1a54da1322a9013b6",
      "8aefc890996a4d6eaca120dc044a65ee",
      "dcbd39661ccc414184cdf4022d3d3b1f",
      "518fbff724f2423bb7f65224c64c38d4",
      "a0568b114eb34a0492e3ebc30167d5ae",
      "9e4122c079d3402b9fa3d914a486a405",
      "44a1b22d38944f86940058a01e4fdef3",
      "fcf51f2d003b44bfb966344b8ea6fc88",
      "c26c51b215d74f6f9e7844c66ff5f844",
      "f3cdb5a2a14a42768f26636eeaf51b3a",
      "72f9ecf39be54c7cad79eb95c9040c0c",
      "6e15e66784ee4b8dab2fb2bb554d27c9",
      "0c2426dc938a410a9339d1df1c4e4217",
      "dfb6ed4499b844569fa5e447f4db5e47",
      "30a84324245e49bd8b024aeb769d45f4",
      "39d9498003c64b4d80a35234fcfa6f34",
      "ffd71aed3b444bbe8b356967f091d0c0",
      "5e23da45bd054d57ab92a1d9ade8e1a7",
      "28098b283c354c05b752cb9f9f3ff341",
      "5b299addf81f4c45b830eb82471acae2",
      "9f0a4bd1f06e4a5b89ac59d4dfa5c59d",
      "8454207af20145c98fd3fa1b458b0f2b",
      "8b568f6612b247c49aa98dd42d5dc022",
      "771604d1ec1e4a02b128518730745884",
      "11fa7758a06c452db92565586c6978d3",
      "a56a080f040a47fe90b5d9b52025f3fe",
      "e0b578861c284a01bb40647696f4d9c9",
      "a31f8ecf768d43628b260fc649f8784f",
      "63ca74ade3f24d658b0df99dfc18e374",
      "4bb124fa928748899095b61cbf022d5c",
      "5ad3b3db7b984258bb7733b781560e0f",
      "b842221eb50c488eb60db7b3ea767174",
      "f26f8c0962954dc0806bdda11d2728fe",
      "d40507512b684a3a97b708d060f1b5bf",
      "66af04b6161e4c338cdd650bc5859a4d",
      "61b239f26151415d92fead92ab98a43e",
      "37e79dd4203b4f759848296c1f13eb1e",
      "82964af750864559bc20e8152348dd02",
      "89f932bf343f4605880c7c3141c9777e",
      "15cb5769973a48859d0d4845f8a20ab9",
      "7186e036f956471d84badabe9c0b6cd2",
      "a573cf5f1d6a4b38bafa749943a5db50",
      "ad7ded09db344e6fa8dae6ca5f09ca9f",
      "aaedf37ba6234df2bd0f6fc716672d2f",
      "8a2a3d4f37054a7ebb12cfce003637ce",
      "7ae3a30fdf804ba8a3f67666831724f8",
      "47e1ac88f50d4d9eb49beaaa0c3bf53e",
      "733cf60960584b0bb122b9b411791ba0",
      "63199f37eca54d1786e6e1de48730a74",
      "49cebd0b0c024867841d301e3351368d",
      "5dbf74252faa4600b12e645c095f203b",
      "2b8631e619594816a7be3d350c7afc4f",
      "2b9ab7121d274b08afb9e78aa8f72212",
      "1924eef8bf5b4e2195d638ae780677d1",
      "f0b3079e276c4bb7868496defc0185f1",
      "a14a964eeead43c88d9dccd29451aa1e",
      "d3cbfdbad7864437b051b06d1b74dc8b",
      "75d8a53e9ed1416880ca9caade714987",
      "b21c0aaa84e04c0f81aea2055fe1f940",
      "bc85c7c7b526427faa38dae075cd3262",
      "b488546b7b48486ea549a05728420dbe",
      "fe95af779cf042a4ae77dbd1d88c3f91",
      "8c12c185567644caa469fd0165481b25",
      "40db6a588d0d46aab4261f28f043fec7",
      "9354489549644a60997c85298b63f3cd",
      "d3f98c6c39ee412dbfc18bb20089f49a",
      "ce4cf1f557b34db988c30bdd31ef298e",
      "f2fa187b0c6a40e9a68227638b80895a",
      "9f7292ce5f874c188f559a4094632fa0",
      "97523560c6de45bdbd6a71d0933e1fc8",
      "2bc7721cfac04df2b0bcb579f9013456",
      "b0467ec2450f4671b26e883273ae8144",
      "a6b3f1467a4e495a99187a92c0aacade",
      "5aa86196e73d441591ff8e30bffa3312",
      "910fc89aef55443aabc53cae851673dc",
      "85ff4f73a1e545dd93d35d24868ce1fd",
      "8721e5921dda4f21b9c966e6603b1925",
      "5493e5fbf9514fa2adaa4a5bf0225a45",
      "a815943cf9e846958ac77b3c5ece4a0b",
      "6ee9c93dc939433fbf92d37e37abfcd5",
      "3f0707bbbb4c4dbcaff2517d40721ec9",
      "0ffb3c6496864f54bdce283afd79fcfa",
      "2dc25b1129aa46a6a29b3d3391200dc4",
      "8cb3352270bf443faa42c285fc35535e",
      "7f9ffadd4bfa4d5080455beedb8db041",
      "d7d7088ce05140868a369cedb1855476",
      "f2ddf2d3b0ea4666b6bc827a20674e62",
      "4a0ed1e8a7324cc2a85102e477381f3b",
      "f5b72b773a4b457985dfc73239000e1f",
      "04c76a6a59e845719032c8d38d75e410",
      "a59901647ca94a3aa05b70ff5f050228",
      "a8ca0bb348ab4d1792e076eaf7d61e99",
      "15fd0230890544de83539265a1997ffc",
      "13261e01adda45fdb004d1763d147fb9",
      "95f5f022e2ba4c50a1778b82a22a6fd2",
      "93837edf24a7404cabc2f2b1eccaeff2",
      "14f61267caab4f1b9cead6549f41466e",
      "39ea2988d34d45d6ae82f505c5630366",
      "f60763ec0a39423788f8aca8623eba6a",
      "1ec74c209c394910a6e6c9d00ce51442",
      "48c19bd44fb54bf9a880811b6dfaa3ea",
      "087b015a1d724ddabb84e2fa0148b823",
      "c9f59fe37b1148efb67b27a6f8087737",
      "9334f0383c9e4a59be9661108ff24796",
      "7c59f37ed77844eb8009a204f079f8a3",
      "44bd0670c742465ca8c7ff9af8fa4dc4",
      "13a5633c7d5640d1a7a7dfa80a175621",
      "cbf2b2c472474e5cb998bf99ae135bc0",
      "5adecab5f0334e29b32a916fb315cca6",
      "96948642c81e4c0a84e7245845671d02",
      "561b919c813b46a0a9cc7deee8af31f7",
      "9d95a51ae34d4a1b9f303f34ccb518b2",
      "f6a6965e255c444ba76821d3bfc7283d"
     ]
    },
    "id": "FtMLizxvIdKC",
    "outputId": "f780a546-513c-4472-b275-105421b11366"
   },
   "outputs": [],
   "source": [
    "from datasets import load_dataset\n",
    "from transformers import AutoTokenizer\n",
    "\n",
    "# Load dataset\n",
    "dataset = load_dataset(\"imdb\", split='train[:2000]')  # smaller for practice\n",
    "\n",
    "# Load tokenizer\n",
    "tokenizer = AutoTokenizer.from_pretrained(\"distilbert-base-uncased\")\n",
    "\n",
    "# Tokenize\n",
    "def tokenize_function(example):\n",
    "    return tokenizer(example[\"text\"], padding=\"max_length\", truncation=True)\n",
    "\n",
    "tokenized_dataset = dataset.map(tokenize_function, batched=True)\n"
   ]
  },
  {
   "cell_type": "code",
   "execution_count": null,
   "metadata": {
    "colab": {
     "base_uri": "https://localhost:8080/",
     "height": 105,
     "referenced_widgets": [
      "20c157c077a74486bc4e8157e4bf8dc3",
      "6827bc11eb7a4852be6d567bde401da5",
      "72b557f426bd4aadbf463dbc400c30e3",
      "b91fbfcf55f74fb6b136d572a88d7322",
      "9ad496a33cf044b5a8195963bce05140",
      "933119273c3b440c83a1a5bc94977fe5",
      "99cba6027de4455798c73abaf89632f4",
      "d2c5a22902f64ee58605bc75ea603cb1",
      "1b469cee5b2d4463842be19ab2907ff9",
      "dce49dd972ef4bce90d764dfa5b2c3eb",
      "b99a4869914d4d6fb033b989fa5da485"
     ]
    },
    "id": "_3H8bySDI9X3",
    "outputId": "db6a8c24-82fc-4015-d67e-627616927125"
   },
   "outputs": [],
   "source": [
    "from transformers import AutoModelForSequenceClassification\n",
    "\n",
    "model = AutoModelForSequenceClassification.from_pretrained(\n",
    "    \"distilbert-base-uncased\", num_labels=2\n",
    ")\n"
   ]
  },
  {
   "cell_type": "code",
   "execution_count": null,
   "metadata": {
    "colab": {
     "base_uri": "https://localhost:8080/"
    },
    "id": "XEJfVicnLwyi",
    "outputId": "9b82c035-b0c9-4ef6-d12b-c9c672b5e39b"
   },
   "outputs": [],
   "source": [
    "!pip install --upgrade transformers\n"
   ]
  },
  {
   "cell_type": "code",
   "execution_count": null,
   "metadata": {
    "colab": {
     "base_uri": "https://localhost:8080/",
     "height": 471
    },
    "id": "wBFBoIFOMG8D",
    "outputId": "02d4b711-d534-4573-cf9b-3a8156b48097"
   },
   "outputs": [],
   "source": [
    "from transformers import TrainingArguments, Trainer\n",
    "\n",
    "training_args = TrainingArguments(\n",
    "    output_dir=\"./results\",\n",
    "    learning_rate=2e-5,\n",
    "    per_device_train_batch_size=8,\n",
    "    num_train_epochs=2,\n",
    "    logging_dir=\"./logs\",  # Optional but helpful\n",
    ")\n",
    "\n",
    "trainer = Trainer(\n",
    "    model=model,\n",
    "    args=training_args,\n",
    "    train_dataset=tokenized_dataset,\n",
    ")\n",
    "\n",
    "trainer.train()\n"
   ]
  }
 ],
 "metadata": {
  "colab": {
   "provenance": []
  },
  "kernelspec": {
   "display_name": "Python 3",
   "name": "python3"
  },
  "language_info": {
   "name": "python",
   "version": "3.13.1"
  }
 },
 "nbformat": 4,
 "nbformat_minor": 0
}
